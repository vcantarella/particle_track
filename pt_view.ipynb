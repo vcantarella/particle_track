{
 "cells": [
  {
   "cell_type": "code",
   "execution_count": 1,
   "id": "cd9269e2-b528-43e6-a6f6-ab7fa94ab256",
   "metadata": {},
   "outputs": [],
   "source": [
    "import pyvista as pv\n",
    "import numpy as np\n",
    "import os"
   ]
  },
  {
   "cell_type": "code",
   "execution_count": 2,
   "id": "3b44b818-e6cd-47de-8670-317c52613477",
   "metadata": {},
   "outputs": [],
   "source": [
    "grid = pv.read('C:\\\\Users\\\\vcant\\\\OneDrive\\\\Kassel\\\\secunda\\\\src\\\\particle_track\\\\MODFLOW_testmodels\\\\modflow_verification_3\\\\vtk_modflow_mesh.vtk')"
   ]
  },
  {
   "cell_type": "code",
   "execution_count": 3,
   "id": "bb1a0586-aa73-409a-a468-b369d422d04d",
   "metadata": {},
   "outputs": [],
   "source": [
    "pathlines = pv.read('C:\\\\Users\\\\vcant\\\\OneDrive\\\\Kassel\\\\secunda\\\\src\\\\particle_track\\\\MODFLOW_testmodels\\\\modflow_verification_3\\\\vtk_modpath_lines.vtk')"
   ]
  },
  {
   "cell_type": "code",
   "execution_count": 4,
   "id": "72c31976-0b78-4fe7-a60f-f3ae40450533",
   "metadata": {},
   "outputs": [
    {
     "data": {
      "application/vnd.jupyter.widget-view+json": {
       "model_id": "562057f2adf84e01a4947465227e7ee8",
       "version_major": 2,
       "version_minor": 0
      },
      "text/plain": [
       "Widget(value=\"<iframe src='http://localhost:60290/index.html?ui=P_0x2ba61fe3220_0&reconnect=auto' style='width…"
      ]
     },
     "metadata": {},
     "output_type": "display_data"
    }
   ],
   "source": [
    "\n",
    "plotter = pv.Plotter()    # instantiate the plotter\n",
    "plotter.add_mesh(grid, opacity=0.05)    # add a mesh to the scene\n",
    "plotter.add_mesh(pathlines, scalars=\"time\")\n",
    "plotter.camera.zoom(2)    # Note how we can now access underlying attributes\n",
    "plotter.show()            # show the rendering window"
   ]
  }
 ],
 "metadata": {
  "kernelspec": {
   "display_name": "Python 3 (ipykernel)",
   "language": "python",
   "name": "python3"
  },
  "language_info": {
   "codemirror_mode": {
    "name": "ipython",
    "version": 3
   },
   "file_extension": ".py",
   "mimetype": "text/x-python",
   "name": "python",
   "nbconvert_exporter": "python",
   "pygments_lexer": "ipython3",
   "version": "3.10.9"
  }
 },
 "nbformat": 4,
 "nbformat_minor": 5
}
