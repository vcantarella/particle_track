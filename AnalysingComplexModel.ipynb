{
 "cells": [
  {
   "cell_type": "markdown",
   "metadata": {},
   "source": [
    "# Particle Track Verification\n",
    "\n",
    "This notebook is to show the implementation of the particle track code and its validation using MODPATH as comparison.\n",
    "\n",
    "***to run this script, make sure first to have all dependencies installed and running the scripts 'verification_1.py' and 'verification_2.py', which will create and run the MODFLOW and MODPATH models***\n"
   ]
  },
  {
   "cell_type": "code",
   "execution_count": 3,
   "metadata": {},
   "outputs": [],
   "source": [
    "import flopy\n",
    "import os\n",
    "import matplotlib.pyplot as plt\n",
    "import numpy as np\n",
    "from particle_track import pollock, pollock_v2\n",
    "from particle_track.cumulate_relative_reactivity import (\n",
    "    cumulative_reactivity,\n",
    "    cumulative_gu,\n",
    ")"
   ]
  },
  {
   "cell_type": "markdown",
   "metadata": {},
   "source": [
    "## Loading MODPATH results and plotting for the complex model"
   ]
  },
  {
   "cell_type": "code",
   "execution_count": 5,
   "metadata": {},
   "outputs": [],
   "source": [
    "name = \"ammer_V07\"\n",
    "model_directory = \"MODFLOW_testmodels/complex_model\"\n",
    "mpnamf = name + \"_mp_forward\"\n",
    "\n",
    "sim = flopy.mf6.MFSimulation.load(\n",
    "    sim_ws=model_directory,\n",
    "    exe_name=\"mf6\",\n",
    "    verbosity_level=0,\n",
    ")\n",
    "gwf = sim.get_model(name)\n",
    "head = gwf.output.head()\n",
    "head_array = head.get_data()\n",
    "grid = gwf.modelgrid\n",
    "\n",
    "\n",
    "# Get pathline:\n",
    "p = flopy.utils.PathlineFile(os.path.join(model_directory, mpnamf + \".mppth\"))\n",
    "e = flopy.utils.EndpointFile(os.path.join(model_directory, mpnamf + \".mpend\"))\n",
    "pw = p.get_alldata()\n",
    "ew = e.get_alldata()\n",
    "\n",
    "# MODPATH travel time results"
   ]
  },
  {
   "cell_type": "code",
   "execution_count": null,
   "metadata": {},
   "outputs": [],
   "source": [
    "## Plotting Pathline:\n",
    "\n",
    "fig, ax = plt.subplots(1, 1, figsize=(12, 12), constrained_layout=True)\n",
    "ax.set_title(\"Tracking Results\")\n",
    "modelmap = flopy.plot.PlotMapView(model=gwf, ax=ax)\n",
    "pa = modelmap.plot_array(head_array, vmin=head_array.min(), vmax=head_array.max())\n",
    "quadmesh = modelmap.plot_bc(\"CHD\")\n",
    "# linecollection = modelmap.plot_grid(lw=0.5, color=\"0.5\")\n",
    "modelmap.plot_pathline(pw, layer=\"all\", lw=2)\n",
    "modelmap.plot_endpoint(ew, direction=\"starting\", colorbar=False)\n",
    "cb = plt.colorbar(pa, shrink=0.5, ax=ax)\n",
    "# plt.savefig(\"pathline_fig.png\")\n"
   ]
  }
 ],
 "metadata": {
  "kernelspec": {
   "display_name": "flopy-env",
   "language": "python",
   "name": "python3"
  },
  "language_info": {
   "codemirror_mode": {
    "name": "ipython",
    "version": 3
   },
   "file_extension": ".py",
   "mimetype": "text/x-python",
   "name": "python",
   "nbconvert_exporter": "python",
   "pygments_lexer": "ipython3",
   "version": "3.11.9"
  }
 },
 "nbformat": 4,
 "nbformat_minor": 2
}
